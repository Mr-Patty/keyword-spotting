{
 "cells": [
  {
   "cell_type": "code",
   "execution_count": 3,
   "id": "26992b69-c915-4e6c-952f-6b16f219972f",
   "metadata": {},
   "outputs": [],
   "source": [
    "import os \n",
    "\n",
    "from os import listdir\n",
    "from tqdm import tqdm\n",
    "from tqdm.notebook import tqdm_notebook\n",
    "from datetime import datetime\n",
    "\n",
    "import IPython\n",
    "import soundfile as sf\n",
    "import numpy as np\n",
    "import torch\n",
    "import torch.nn as nn\n",
    "import torch.nn.functional as F\n",
    "import torch.utils.data as data\n",
    "from audiomentations import Compose, AddGaussianNoise, TimeStretch, PitchShift, Shift\n",
    "from sklearn.metrics import classification_report\n",
    "from sklearn.metrics import precision_score\n",
    "from sklearn.metrics import recall_score\n",
    "from sklearn.metrics import accuracy_score\n",
    "\n",
    "\n",
    "import collections\n",
    "import contextlib\n",
    "import sys\n",
    "import wave\n",
    "import json\n",
    "import pickle\n",
    "import random\n",
    "import torchaudio\n",
    "\n",
    "%matplotlib inline\n",
    "import matplotlib.pyplot as plt\n",
    "import librosa\n",
    "\n",
    "base_dir = \"../dataset/\"\n",
    "test_file_path = os.path.join(base_dir, \"testing_list.txt\")\n",
    "validation_file_path = os.path.join(base_dir, \"validation_list.txt\")\n",
    "noise_path = os.path.join(base_dir, \"_background_noise_/\")"
   ]
  },
  {
   "cell_type": "code",
   "execution_count": 4,
   "id": "130da7f3-e3ae-4e8f-8a98-35a798c002e5",
   "metadata": {},
   "outputs": [],
   "source": [
    "all_samples = []\n",
    "labels_set = ['bed','bird','cat','dog','down','eight','five','four','go','happy','house',\n",
    "              'left','marvin','nine','no','off','on','one','right','seven','sheila','six',\n",
    "              'stop','three','tree','two','up','wow','yes','zero'\n",
    "             ]\n",
    "\n",
    "for word in listdir(base_dir):\n",
    "    if os.path.isdir(os.path.join(base_dir, word)) and word in labels_set:\n",
    "        for path in listdir(os.path.join(base_dir, word)):\n",
    "            all_samples.append(os.path.join(word, path))\n",
    "\n",
    "with open(test_file_path) as file:\n",
    "    list_samples = file.read()\n",
    "test_samples = list_samples.split('\\n')[:-1]\n",
    "\n",
    "with open(validation_file_path) as file:\n",
    "    list_samples = file.read()\n",
    "validation_samples = list_samples.split('\\n')[:-1]\n",
    "\n",
    "train_samples = list(set(all_samples) - set(validation_samples) - set(test_samples))\n",
    "labels_set = ['down','go','left','no','off','on','right','stop','up','yes']"
   ]
  },
  {
   "cell_type": "code",
   "execution_count": 15,
   "id": "1d55b934-8350-4421-a5df-eed9db0d4343",
   "metadata": {},
   "outputs": [
    {
     "data": {
      "image/png": "[encoded data removed]",
      "text/plain": [
       "<Figure size 1080x360 with 1 Axes>"
      ]
     },
     "metadata": {
      "needs_background": "light"
     },
     "output_type": "display_data"
    }
   ],
   "source": [
    "import matplotlib.pyplot as plt\n",
    "from matplotlib.pyplot import figure\n",
    "\n",
    "f, ax1 = plt.subplots(1, 1, sharey=True, figsize=(15,5))\n",
    "ax1.hist(x=list(map(lambda x: x[:x.find('/')], all_samples)), bins=100, color='#0504aa')\n",
    "ax1.grid(axis='y', alpha=0.75)"
   ]
  },
  {
   "cell_type": "code",
   "execution_count": 5,
   "id": "a139ef35-6876-493e-b8ce-f786b5e42f12",
   "metadata": {},
   "outputs": [],
   "source": [
    "class SpeechDataset(data.Dataset):\n",
    "    \n",
    "#     LABEL_UNKNOWN = \"__unknown__\"\n",
    "    def __init__(self, data, set_type, noise_path, labels_set, base_path, unknown_prob=0.1, silence_prob=0.1, noise_prob=0.8, timeshift_ms=100, input_length=16000, n_mels=40, n_mfcc=40, hop_ms=10):\n",
    "        super().__init__()\n",
    "        LABEL_SILENCE = \"__silence__\"\n",
    "        LABEL_UNKNOWN = \"__unknown__\"\n",
    "        self.base_path = base_path\n",
    "        self.noise_path = noise_path\n",
    "        self.audio_files = data\n",
    "        self.set_type = set_type\n",
    "        labels = list(map(lambda x: x[:x.find('/')], data))\n",
    "        self.label2ind = {word: i + 2 for i, word in enumerate(labels_set)}\n",
    "        self.label2ind.update({LABEL_SILENCE: 0, LABEL_UNKNOWN:1})\n",
    "        self.audio_labels = list(map(lambda x: self.label2ind.get(x, 1), labels))\n",
    "        self.n_mfcc = n_mfcc\n",
    "        \n",
    "        bg_noise_files = list(filter(lambda x: x.endswith(\"wav\"), listdir(noise_path)))\n",
    "        self.bg_noise_audio = [sf.read(os.path.join(noise_path, file))[0] for file in bg_noise_files]\n",
    "        self.unknown_prob = unknown_prob\n",
    "        self.silence_prob = silence_prob\n",
    "        self.noise_prob = noise_prob\n",
    "        self.input_length = input_length\n",
    "        self.timeshift_ms = timeshift_ms\n",
    "#         self._audio_cache = SimpleCache(config[\"cache_size\"]) # todo\n",
    "#         self._file_cache = SimpleCache(config[\"cache_size\"])\n",
    "        self._file_cache = {}\n",
    "        self._audio_cache = {}\n",
    "        n_unk = len(list(filter(lambda x: x == 1, self.audio_labels)))\n",
    "        self.n_silence = int(self.silence_prob * (len(self.audio_labels) - n_unk))\n",
    "        \n",
    "        self.augment = Compose([\n",
    "            TimeStretch(min_rate=0.8, max_rate=1.25, p=0.5),\n",
    "            PitchShift(min_semitones=-4, max_semitones=4, p=0.5),\n",
    "            Shift(min_fraction=-0.1, max_fraction=0.1, p=0.5, rollover=False),\n",
    "        ])\n",
    "        \n",
    "        self.audio_transforms = nn.Sequential(\n",
    "            torchaudio.transforms.MFCC(sample_rate=16000, n_mfcc=n_mfcc, melkwargs={'hop_length': 16 * hop_ms,\n",
    "                                                                                \"center\": True, 'n_mels': n_mels}),\n",
    "            torchaudio.transforms.SlidingWindowCmn(cmn_window=600, norm_vars=True, center=True)\n",
    "        )\n",
    "        self.train_audio_transforms = nn.Sequential(\n",
    "        #     torchaudio.transforms.SlidingWindowCmn(cmn_window=600, norm_vars=True, center=True),\n",
    "            torchaudio.transforms.FrequencyMasking(freq_mask_param=3),\n",
    "            torchaudio.transforms.TimeMasking(time_mask_param=10)\n",
    "        )\n",
    "        \n",
    "    def load_audio(self, example, silence=False):\n",
    "        if silence:\n",
    "            example = \"__silence__\"\n",
    "        if random.random() < 0.7 or not self.set_type == 'train':\n",
    "            try:\n",
    "                return self._audio_cache[example]\n",
    "            except KeyError:\n",
    "                pass\n",
    "        in_len = self.input_length\n",
    "        if self.bg_noise_audio:\n",
    "            bg_noise = random.choice(self.bg_noise_audio)\n",
    "            a = random.randint(0, len(bg_noise) - in_len - 1)\n",
    "            bg_noise = bg_noise[a:a + in_len]\n",
    "        else:\n",
    "            bg_noise = np.zeros(in_len)\n",
    "\n",
    "        if silence:\n",
    "            audio = np.zeros(in_len, dtype=np.float32)\n",
    "        else:\n",
    "            file_data = self._file_cache.get(example)\n",
    "            audio = sf.read(os.path.join(self.base_path, example))[0] if file_data is None else file_data\n",
    "            audio = audio.astype(np.float32)\n",
    "            self._file_cache[example] = audio\n",
    "        audio = np.pad(audio, (0, max(0, in_len - len(audio))), \"constant\")\n",
    "        if self.set_type == 'train':\n",
    "            audio = self.augment(samples=audio, sample_rate=16000)\n",
    "\n",
    "        if random.random() < self.noise_prob or silence:\n",
    "            if silence:\n",
    "                a = random.random()\n",
    "            else:\n",
    "                a = random.random() * 0.1\n",
    "            audio = np.clip(a * bg_noise + audio, -1, 1)\n",
    "        \n",
    "        torch_audio = torch.from_numpy(audio).float()\n",
    "        transform_audio = self.audio_transforms(torch_audio).reshape(-1, self.n_mfcc)\n",
    "        if self.set_type == 'train':\n",
    "            transform_audio = self.train_audio_transforms(transform_audio)\n",
    "        self._audio_cache[example] = transform_audio\n",
    "        return transform_audio\n",
    "\n",
    "    def __getitem__(self, index):\n",
    "        if index >= len(self.audio_labels):\n",
    "            return self.load_audio(None, silence=True), torch.tensor(0)\n",
    "        return self.load_audio(self.audio_files[index]), torch.tensor(self.audio_labels[index])\n",
    "\n",
    "    def __len__(self):\n",
    "        return len(self.audio_labels) + self.n_silence\n",
    "    \n",
    "class SpeechResModel(nn.Module):\n",
    "    def __init__(self, n_labels, n_feature_maps=45, n_layers=26, dilation=False, res_pool=2):\n",
    "        super().__init__()\n",
    "        self.n_labels = n_labels\n",
    "        self.n_maps = n_feature_maps\n",
    "        self.conv0 = nn.Conv2d(1, self.n_maps, (3, 3), padding=(1, 1), bias=False)\n",
    "        self.avg_pool = res_pool\n",
    "        if res_pool:\n",
    "            self.pool = nn.AvgPool2d(res_pool)\n",
    "\n",
    "        self.n_layers = n_layers\n",
    "        if dilation:\n",
    "            self.convs = [nn.Conv2d(self.n_maps, self.n_maps, (3, 3), padding=int(2**(i // 3)), dilation=int(2**(i // 3)),\n",
    "                bias=False) for i in range(n_layers)]\n",
    "        else:\n",
    "            self.convs = [nn.Conv2d(self.n_maps, self.n_maps, (3, 3), padding=1, dilation=1,\n",
    "                bias=False) for _ in range(n_layers)]\n",
    "        for i, conv in enumerate(self.convs):\n",
    "            self.add_module(\"bn{}\".format(i + 1), nn.BatchNorm2d(self.n_maps, affine=False))\n",
    "            self.add_module(\"conv{}\".format(i + 1), conv)\n",
    "        self.output = nn.Linear(self.n_maps, self.n_labels)\n",
    "\n",
    "    def forward(self, x):\n",
    "        x = x.unsqueeze(1)\n",
    "        for i in range(self.n_layers + 1):\n",
    "            y = F.relu(getattr(self, \"conv{}\".format(i))(x))\n",
    "            if i == 0:\n",
    "                if self.avg_pool:\n",
    "                    y = self.pool(y)\n",
    "                old_x = y\n",
    "            if i > 0 and i % 2 == 0:\n",
    "                x = y + old_x\n",
    "                old_x = x\n",
    "            else:\n",
    "                x = y\n",
    "            if i > 0:\n",
    "                x = getattr(self, \"bn{}\".format(i))(x)\n",
    "        x = x.view(x.size(0), x.size(1), -1) # shape: (batch, feats, o3)\n",
    "        x = torch.mean(x, 2)\n",
    "        return self.output(x)\n",
    "\n",
    "def testModel(model, test_samples, noise_path, labels_set, base_dir, max_samples=10000, batch_size=1, device='cpu', n_mels=40):\n",
    "    \n",
    "    model.to(device)\n",
    "    \n",
    "    test_dataset = SpeechDataset(test_samples, 'test', noise_path, labels_set, base_dir, n_mels=n_mels)\n",
    "    \n",
    "    test_loader = torch.utils.data.DataLoader(dataset=test_dataset,\n",
    "                                              batch_size=batch_size,\n",
    "                                              shuffle=False)\n",
    "\n",
    "    print('DATASET SIZE: {}'.format(len(test_dataset)))\n",
    "    \n",
    "    model.eval()\n",
    "    preds = []\n",
    "    test_y = []\n",
    "    for x, y in tqdm(test_loader):\n",
    "        \n",
    "        with torch.no_grad():\n",
    "            test_y.append(y.numpy())\n",
    "            output = model(x.float().to(device))\n",
    "            pred = output.cpu().detach().numpy()\n",
    "            preds.extend(pred)\n",
    "    del test_dataset\n",
    "    return test_y, preds"
   ]
  },
  {
   "cell_type": "code",
   "execution_count": 6,
   "id": "d4885166-f7c4-4f49-b9c5-13e62b58f945",
   "metadata": {
    "scrolled": true,
    "tags": []
   },
   "outputs": [
    {
     "data": {
      "text/plain": [
       "SpeechResModel(\n",
       "  (conv0): Conv2d(1, 45, kernel_size=(3, 3), stride=(1, 1), padding=(1, 1), bias=False)\n",
       "  (pool): AvgPool2d(kernel_size=2, stride=2, padding=0)\n",
       "  (bn1): BatchNorm2d(45, eps=1e-05, momentum=0.1, affine=False, track_running_stats=True)\n",
       "  (conv1): Conv2d(45, 45, kernel_size=(3, 3), stride=(1, 1), padding=(1, 1), bias=False)\n",
       "  (bn2): BatchNorm2d(45, eps=1e-05, momentum=0.1, affine=False, track_running_stats=True)\n",
       "  (conv2): Conv2d(45, 45, kernel_size=(3, 3), stride=(1, 1), padding=(1, 1), bias=False)\n",
       "  (bn3): BatchNorm2d(45, eps=1e-05, momentum=0.1, affine=False, track_running_stats=True)\n",
       "  (conv3): Conv2d(45, 45, kernel_size=(3, 3), stride=(1, 1), padding=(1, 1), bias=False)\n",
       "  (bn4): BatchNorm2d(45, eps=1e-05, momentum=0.1, affine=False, track_running_stats=True)\n",
       "  (conv4): Conv2d(45, 45, kernel_size=(3, 3), stride=(1, 1), padding=(2, 2), dilation=(2, 2), bias=False)\n",
       "  (bn5): BatchNorm2d(45, eps=1e-05, momentum=0.1, affine=False, track_running_stats=True)\n",
       "  (conv5): Conv2d(45, 45, kernel_size=(3, 3), stride=(1, 1), padding=(2, 2), dilation=(2, 2), bias=False)\n",
       "  (bn6): BatchNorm2d(45, eps=1e-05, momentum=0.1, affine=False, track_running_stats=True)\n",
       "  (conv6): Conv2d(45, 45, kernel_size=(3, 3), stride=(1, 1), padding=(2, 2), dilation=(2, 2), bias=False)\n",
       "  (bn7): BatchNorm2d(45, eps=1e-05, momentum=0.1, affine=False, track_running_stats=True)\n",
       "  (conv7): Conv2d(45, 45, kernel_size=(3, 3), stride=(1, 1), padding=(4, 4), dilation=(4, 4), bias=False)\n",
       "  (bn8): BatchNorm2d(45, eps=1e-05, momentum=0.1, affine=False, track_running_stats=True)\n",
       "  (conv8): Conv2d(45, 45, kernel_size=(3, 3), stride=(1, 1), padding=(4, 4), dilation=(4, 4), bias=False)\n",
       "  (bn9): BatchNorm2d(45, eps=1e-05, momentum=0.1, affine=False, track_running_stats=True)\n",
       "  (conv9): Conv2d(45, 45, kernel_size=(3, 3), stride=(1, 1), padding=(4, 4), dilation=(4, 4), bias=False)\n",
       "  (bn10): BatchNorm2d(45, eps=1e-05, momentum=0.1, affine=False, track_running_stats=True)\n",
       "  (conv10): Conv2d(45, 45, kernel_size=(3, 3), stride=(1, 1), padding=(8, 8), dilation=(8, 8), bias=False)\n",
       "  (bn11): BatchNorm2d(45, eps=1e-05, momentum=0.1, affine=False, track_running_stats=True)\n",
       "  (conv11): Conv2d(45, 45, kernel_size=(3, 3), stride=(1, 1), padding=(8, 8), dilation=(8, 8), bias=False)\n",
       "  (bn12): BatchNorm2d(45, eps=1e-05, momentum=0.1, affine=False, track_running_stats=True)\n",
       "  (conv12): Conv2d(45, 45, kernel_size=(3, 3), stride=(1, 1), padding=(8, 8), dilation=(8, 8), bias=False)\n",
       "  (bn13): BatchNorm2d(45, eps=1e-05, momentum=0.1, affine=False, track_running_stats=True)\n",
       "  (conv13): Conv2d(45, 45, kernel_size=(3, 3), stride=(1, 1), padding=(16, 16), dilation=(16, 16), bias=False)\n",
       "  (bn14): BatchNorm2d(45, eps=1e-05, momentum=0.1, affine=False, track_running_stats=True)\n",
       "  (conv14): Conv2d(45, 45, kernel_size=(3, 3), stride=(1, 1), padding=(16, 16), dilation=(16, 16), bias=False)\n",
       "  (bn15): BatchNorm2d(45, eps=1e-05, momentum=0.1, affine=False, track_running_stats=True)\n",
       "  (conv15): Conv2d(45, 45, kernel_size=(3, 3), stride=(1, 1), padding=(16, 16), dilation=(16, 16), bias=False)\n",
       "  (bn16): BatchNorm2d(45, eps=1e-05, momentum=0.1, affine=False, track_running_stats=True)\n",
       "  (conv16): Conv2d(45, 45, kernel_size=(3, 3), stride=(1, 1), padding=(32, 32), dilation=(32, 32), bias=False)\n",
       "  (bn17): BatchNorm2d(45, eps=1e-05, momentum=0.1, affine=False, track_running_stats=True)\n",
       "  (conv17): Conv2d(45, 45, kernel_size=(3, 3), stride=(1, 1), padding=(32, 32), dilation=(32, 32), bias=False)\n",
       "  (bn18): BatchNorm2d(45, eps=1e-05, momentum=0.1, affine=False, track_running_stats=True)\n",
       "  (conv18): Conv2d(45, 45, kernel_size=(3, 3), stride=(1, 1), padding=(32, 32), dilation=(32, 32), bias=False)\n",
       "  (bn19): BatchNorm2d(45, eps=1e-05, momentum=0.1, affine=False, track_running_stats=True)\n",
       "  (conv19): Conv2d(45, 45, kernel_size=(3, 3), stride=(1, 1), padding=(64, 64), dilation=(64, 64), bias=False)\n",
       "  (bn20): BatchNorm2d(45, eps=1e-05, momentum=0.1, affine=False, track_running_stats=True)\n",
       "  (conv20): Conv2d(45, 45, kernel_size=(3, 3), stride=(1, 1), padding=(64, 64), dilation=(64, 64), bias=False)\n",
       "  (bn21): BatchNorm2d(45, eps=1e-05, momentum=0.1, affine=False, track_running_stats=True)\n",
       "  (conv21): Conv2d(45, 45, kernel_size=(3, 3), stride=(1, 1), padding=(64, 64), dilation=(64, 64), bias=False)\n",
       "  (bn22): BatchNorm2d(45, eps=1e-05, momentum=0.1, affine=False, track_running_stats=True)\n",
       "  (conv22): Conv2d(45, 45, kernel_size=(3, 3), stride=(1, 1), padding=(128, 128), dilation=(128, 128), bias=False)\n",
       "  (bn23): BatchNorm2d(45, eps=1e-05, momentum=0.1, affine=False, track_running_stats=True)\n",
       "  (conv23): Conv2d(45, 45, kernel_size=(3, 3), stride=(1, 1), padding=(128, 128), dilation=(128, 128), bias=False)\n",
       "  (bn24): BatchNorm2d(45, eps=1e-05, momentum=0.1, affine=False, track_running_stats=True)\n",
       "  (conv24): Conv2d(45, 45, kernel_size=(3, 3), stride=(1, 1), padding=(128, 128), dilation=(128, 128), bias=False)\n",
       "  (bn25): BatchNorm2d(45, eps=1e-05, momentum=0.1, affine=False, track_running_stats=True)\n",
       "  (conv25): Conv2d(45, 45, kernel_size=(3, 3), stride=(1, 1), padding=(256, 256), dilation=(256, 256), bias=False)\n",
       "  (bn26): BatchNorm2d(45, eps=1e-05, momentum=0.1, affine=False, track_running_stats=True)\n",
       "  (conv26): Conv2d(45, 45, kernel_size=(3, 3), stride=(1, 1), padding=(256, 256), dilation=(256, 256), bias=False)\n",
       "  (output): Linear(in_features=45, out_features=12, bias=True)\n",
       ")"
      ]
     },
     "execution_count": 6,
     "metadata": {},
     "output_type": "execute_result"
    }
   ],
   "source": [
    "model = SpeechResModel(n_labels=len(labels_set)+2, dilation=True).float()\n",
    "model.load_state_dict(torch.load('../models/model_v4.pt'))\n",
    "model.eval()"
   ]
  },
  {
   "cell_type": "code",
   "execution_count": 7,
   "id": "471c160d-4f6f-491e-9d50-b5e93ad02a25",
   "metadata": {},
   "outputs": [
    {
     "name": "stderr",
     "output_type": "stream",
     "text": [
      "  1%|          | 2/222 [00:00<00:20, 10.92it/s]"
     ]
    },
    {
     "name": "stdout",
     "output_type": "stream",
     "text": [
      "DATASET SIZE: 7091\n"
     ]
    },
    {
     "name": "stderr",
     "output_type": "stream",
     "text": [
      "100%|██████████| 222/222 [00:20<00:00, 10.63it/s]\n"
     ]
    }
   ],
   "source": [
    "test_y, preds = testModel(model, test_samples, noise_path, labels_set, base_dir, device='cuda', batch_size=32, n_mels=64)\n",
    "test_y = np.hstack(test_y)\n",
    "preds = torch.softmax(torch.from_numpy(np.vstack(preds)), dim=1).numpy()"
   ]
  },
  {
   "cell_type": "code",
   "execution_count": 9,
   "id": "c2e963e9-cdb9-4352-b35b-39b40f9704db",
   "metadata": {},
   "outputs": [
    {
     "data": {
      "text/plain": [
       "array([1, 1, 1, ..., 0, 0, 0])"
      ]
     },
     "execution_count": 9,
     "metadata": {},
     "output_type": "execute_result"
    }
   ],
   "source": [
    "test_y"
   ]
  },
  {
   "cell_type": "code",
   "execution_count": 8,
   "id": "36cf03ff-71bd-4381-acac-fd710bbcd500",
   "metadata": {},
   "outputs": [
    {
     "data": {
      "text/plain": [
       "0.9170779861796644"
      ]
     },
     "execution_count": 8,
     "metadata": {},
     "output_type": "execute_result"
    }
   ],
   "source": [
    "accuracy_score(test_y, preds.argmax(1))"
   ]
  },
  {
   "cell_type": "code",
   "execution_count": 24,
   "id": "1efdb719-b528-4c11-b439-a241c4614301",
   "metadata": {},
   "outputs": [
    {
     "name": "stdout",
     "output_type": "stream",
     "text": [
      "              precision    recall  f1-score   support\n",
      "\n",
      "           0       0.98      1.00      0.99       256\n",
      "           1       0.92      0.97      0.95      4268\n",
      "           2       0.86      0.77      0.81       253\n",
      "           3       0.84      0.73      0.78       251\n",
      "           4       0.94      0.82      0.88       267\n",
      "           5       0.81      0.73      0.77       252\n",
      "           6       0.92      0.81      0.86       262\n",
      "           7       0.91      0.78      0.84       246\n",
      "           8       0.90      0.82      0.86       259\n",
      "           9       0.90      0.87      0.88       249\n",
      "          10       0.87      0.87      0.87       272\n",
      "          11       0.93      0.91      0.92       256\n",
      "\n",
      "    accuracy                           0.91      7091\n",
      "   macro avg       0.90      0.84      0.87      7091\n",
      "weighted avg       0.91      0.91      0.91      7091\n",
      "\n"
     ]
    }
   ],
   "source": [
    "print(classification_report(test_y, preds.argmax(1).astype(int)))"
   ]
  },
  {
   "cell_type": "code",
   "execution_count": 85,
   "id": "7eac033e-9ff9-4a48-9528-7e110a51a15f",
   "metadata": {},
   "outputs": [],
   "source": [
    "a = []\n",
    "for i, vec in enumerate(preds):\n",
    "    j = test_y[i]\n",
    "    a.append(vec[j].tolist())\n",
    "far = []\n",
    "threshold = []\n",
    "\n",
    "grid = np.arange(0, 1.01, 0.01)\n",
    "for i in grid:\n",
    "    num = 0\n",
    "\n",
    "    for x in a:\n",
    "        if x > i:\n",
    "            num += 1\n",
    "\n",
    "    far.append(num)\n",
    "    threshold.append(i)\n",
    "\n",
    "far = np.array(far)\n",
    "far = far / far.max()"
   ]
  },
  {
   "cell_type": "code",
   "execution_count": 86,
   "id": "b10b6109-8b67-40b8-a375-33bf660daa7a",
   "metadata": {},
   "outputs": [
    {
     "data": {
      "image/png": "[encoded data removed]",
      "text/plain": [
       "<Figure size 432x288 with 1 Axes>"
      ]
     },
     "metadata": {
      "needs_background": "light"
     },
     "output_type": "display_data"
    }
   ],
   "source": [
    "plt.plot(grid, far,'--b')\n",
    "plt.xlabel('threshold')\n",
    "plt.title('FAR')\n",
    "plt.show()"
   ]
  },
  {
   "cell_type": "code",
   "execution_count": 97,
   "id": "2738f7c1-a29f-47e5-b1f5-57eb8d2f3757",
   "metadata": {},
   "outputs": [],
   "source": [
    "b = []\n",
    "for i, vec in enumerate(torch.from_numpy(preds)):\n",
    "    j = test_y[i]\n",
    "    if (j == vec.argmax()).tolist():\n",
    "        b.append(vec[j].tolist())\n",
    "\n",
    "frr = []\n",
    "grid = np.arange(0, 1.01, 0.01)\n",
    "for i in grid:\n",
    "    num = 0\n",
    "\n",
    "    for x in b:\n",
    "        if x < i:\n",
    "            num += 1\n",
    "    frr.append(num)\n",
    "\n",
    "frr = np.array(frr)\n",
    "frr = frr / 7091"
   ]
  },
  {
   "cell_type": "code",
   "execution_count": 98,
   "id": "654a3f45-6384-4348-a991-bfc21af41a21",
   "metadata": {},
   "outputs": [
    {
     "data": {
      "image/png": "[encoded data removed]",
      "text/plain": [
       "<Figure size 432x288 with 1 Axes>"
      ]
     },
     "metadata": {
      "needs_background": "light"
     },
     "output_type": "display_data"
    }
   ],
   "source": [
    "plt.plot(grid, frr,'--r')\n",
    "plt.xlabel('threshold')\n",
    "plt.title('FRR')\n",
    "plt.show()"
   ]
  },
  {
   "cell_type": "code",
   "execution_count": 106,
   "id": "c62b8bc8-b146-4b73-876f-87cc44908b17",
   "metadata": {
    "scrolled": true,
    "tags": []
   },
   "outputs": [],
   "source": [
    "for i, thr in enumerate(grid):\n",
    "    if np.abs(far[i] - frr[i]) < 0.09:\n",
    "        eer = far[i]\n",
    "        eer_thr = thr\n",
    "        print(grid[frr < 0.1].max(), grid[far < 0.1].min(), eer_thr, eer * 100)"
   ]
  },
  {
   "cell_type": "code",
   "execution_count": 111,
   "id": "7647d5a1-2f95-4213-842d-f8e7dc359662",
   "metadata": {},
   "outputs": [
    {
     "data": {
      "image/png": "[encoded data removed]",
      "text/plain": [
       "<Figure size 432x288 with 1 Axes>"
      ]
     },
     "metadata": {
      "needs_background": "light"
     },
     "output_type": "display_data"
    }
   ],
   "source": [
    "fig, ax = plt.subplots()\n",
    "\n",
    "ax.plot(grid, far, 'r--', label='FAR')\n",
    "ax.plot(grid, frr, 'g--', label='FRR')\n",
    "plt.xlabel('Threshold')\n",
    "plt.plot(eer_thr, eer,'ro', label='EER') \n",
    "\n",
    "\n",
    "legend = ax.legend(loc='upper center', shadow=True, fontsize='x-large')\n",
    "\n",
    "# Put a nicer background color on the legend.\n",
    "legend.get_frame().set_facecolor('C0')\n",
    "\n",
    "plt.show()"
   ]
  }
 ],
 "metadata": {
  "kernelspec": {
   "display_name": "Python 3 (ipykernel)",
   "language": "python",
   "name": "python3"
  },
  "language_info": {
   "codemirror_mode": {
    "name": "ipython",
    "version": 3
   },
   "file_extension": ".py",
   "mimetype": "text/x-python",
   "name": "python",
   "nbconvert_exporter": "python",
   "pygments_lexer": "ipython3",
   "version": "3.8.10"
  }
 },
 "nbformat": 4,
 "nbformat_minor": 5
}
